{
 "cells": [
  {
   "cell_type": "raw",
   "metadata": {},
   "source": [
    "import pandas as pd\n",
    "import numpy as np\n",
    "\n",
    "#Import data and list of relevant variables\n",
    "\n",
    "my_data=pd.read_csv(\"PooledSyncope.csv\")\n",
    "rel_var=pd.read_csv(\"rel_variables.csv\",header=None)\n",
    "\n",
    "# change to DataFrame to Series\n",
    "test=rel_var.iloc[:,0]\n",
    "\n",
    "# make DataFrame with relevant columns\n",
    "data_rel=my_data[test]\n",
    "\n",
    "# convert outcome data to string and save as column\n",
    "my_data['outcome_str']=my_data['outcome'].astype(str)\n",
    "\n",
    "#New df for outcome only\n",
    "temp=my_data[['subnum','outcome_str','peoccur']]\n",
    "temp['target'] = temp['outcome_str']\n",
    "temp.loc[(temp['outcome_str']=='1') & (temp['peoccur'] =='2'),'target'] = '1'\n",
    "temp.loc[(temp['outcome_str']=='1') & (temp['peoccur'] !='2'),'target'] = 'R'\n",
    "\n",
    "# create data_target that has relevant input and outcome variables\n",
    "data_target=data_rel.merge(temp)\n",
    "\n",
    "# eliminate rows where 'target' is 'R' or 'W'\n",
    "data_target2=data_target[(data_target['target']!='R')]\n",
    "data_target2=data_target2[(data_target2['target']!='W')]\n",
    "\n",
    "# get rid of duplicates looking at these three columns\n",
    "data_target2=data_target2.drop_duplicates(subset=['ptinit','dob_ym','gender'],keep='first')\n",
    "\n",
    "# get rid of two columns\n",
    "data_target2=data_target2.drop(columns=['outcome_str', 'peoccur'])\n",
    "\n",
    "data_target2.shape"
   ]
  },
  {
   "cell_type": "code",
   "execution_count": 1,
   "metadata": {},
   "outputs": [
    {
     "name": "stderr",
     "output_type": "stream",
     "text": [
      "/Library/Frameworks/Python.framework/Versions/3.7/lib/python3.7/site-packages/IPython/core/interactiveshell.py:3049: DtypeWarning: Columns (5,6,16,19,22,27,28,29,33,34,35,40,42,43,44,45,47,48,49,50,51,52,53,54,55,56,68,69,70,71,72,73,74,75,77,78,79,81,83,84,85,87,88,90,91,92,95,96,97,101,102,103,104,105,106,107,108,109,110,111,112,113,114,119,120,121,122,123,124,125,126,127,128,129,130,132,133,134,135,136,137,138,139,140,141,142,143,144,146,151,152,163,180,188,193,198,214,218,247,249,250,255,256,257,258,259,260,261,263,264,266,311,322,323,324,325,327,330,354,376,387,399,400,403,409,420,432,433,442,453,466,475,476,478,479,483,484,486,497,498,499,531,537,538,539,551,557,558,559,571,594,595,596,597,598,608,622,623,624,625,626,637,646,647,648,649,650,651,652,653,664,665,673,674,675,676,677,678,679,680,681,682,683,684,685,686,687,688,689,690,691,692,694,695,696,697,698,699,700,701,702,703,704,705,706,708,709,710,711,712,713,714,715,716,717,718,719,720,721,722,723,724,725,726,727,728,729,730,731,732,733,734,735,736,737,738,739,740,741,742,743,744,745,746,749,750,751,752,753,755,756,757,758,759,760,761,762,763,764,765,766,767,768,769,770,771,772,773,774,775,776,777,778,779,780,781,782,783,784,785,786,787,788,789,790,791,792,793,794,795,796,797,798,799,800,801,802,803,804,805,806,807,808,810,811,812,813,814,815,816,817,818,819,820,821,822,823,824,825,826,827,828,829,830,831,832,833,834,835,836,837,838,839,840,841,846,852,858,863,866,867,868,870,871,872,873,875,876,877,878,879,880,881,882,883,884,885,886,887,888,889,890,891,892,893,894,895,896,897,898,899,900,901,902,903,904,905,906,907,908,909,910,911,912,913,914,916,917,919,922,923,924,925,926,927,928,929,930,933,934,935,936,937,938,939,940,941,942,943,944,945,947,950,951,952,953,954,955,956,957,958,959,960,961,962,963,964,965,966,967,968,975,976,977,981,983,984,985,986,987,991,992,993,994,995,996,997,998,999,1000,1001,1003,1004,1006,1007,1008,1009,1010,1012,1013,1014,1015,1016,1017,1018,1019,1020,1021,1022,1023,1024,1025,1026,1027,1028,1029,1031,1032,1034,1036,1037,1038,1039,1040,1041,1043,1044,1045,1048,1049,1050,1051,1052,1053,1054,1057,1058,1060,1061,1063,1064,1065,1066,1068,1069,1070,1071,1072,1073,1075,1076,1077,1078,1079,1080,1082,1083,1084,1085,1088,1089,1090,1091,1092,1093,1094,1095,1096,1098,1099,1101,1102,1103,1104,1105,1106,1107,1108,1109,1110,1111,1112,1113,1114,1115,1116,1117,1118,1119,1120,1121,1122,1123,1124,1125,1126,1127,1129,1130,1131,1134,1135,1136,1137,1138,1139,1147,1148,1149,1150,1151,1152,1153,1154,1155,1156,1157,1158,1159,1160,1161,1162,1163,1164,1165,1166,1167,1168) have mixed types. Specify dtype option on import or set low_memory=False.\n",
      "  interactivity=interactivity, compiler=compiler, result=result)\n"
     ]
    }
   ],
   "source": [
    "import pandas as pd\n",
    "import numpy as np\n",
    "\n",
    "#Import data and list of relevant variables\n",
    "\n",
    "my_data=pd.read_csv(\"PooledSyncope.csv\")\n",
    "rel_var=pd.read_csv(\"rel_variables.csv\",header=None)"
   ]
  },
  {
   "cell_type": "code",
   "execution_count": 3,
   "metadata": {},
   "outputs": [
    {
     "data": {
      "text/plain": [
       "(9540, 1203)"
      ]
     },
     "execution_count": 3,
     "metadata": {},
     "output_type": "execute_result"
    }
   ],
   "source": [
    "my_data.shape"
   ]
  },
  {
   "cell_type": "code",
   "execution_count": 4,
   "metadata": {},
   "outputs": [
    {
     "data": {
      "text/plain": [
       "(400,)"
      ]
     },
     "execution_count": 4,
     "metadata": {},
     "output_type": "execute_result"
    }
   ],
   "source": [
    "test=rel_var.iloc[:,0]\n",
    "test.shape"
   ]
  },
  {
   "cell_type": "code",
   "execution_count": 9,
   "metadata": {},
   "outputs": [],
   "source": [
    "data_rel=my_data[test]"
   ]
  },
  {
   "cell_type": "code",
   "execution_count": 10,
   "metadata": {},
   "outputs": [
    {
     "data": {
      "text/plain": [
       "(9540, 400)"
      ]
     },
     "execution_count": 10,
     "metadata": {},
     "output_type": "execute_result"
    }
   ],
   "source": [
    "data_rel.shape"
   ]
  },
  {
   "cell_type": "code",
   "execution_count": 12,
   "metadata": {},
   "outputs": [],
   "source": [
    "my_data['outcome_str']=my_data['outcome'].astype(str)"
   ]
  },
  {
   "cell_type": "code",
   "execution_count": 13,
   "metadata": {
    "scrolled": true
   },
   "outputs": [
    {
     "data": {
      "text/plain": [
       "(9540, 1204)"
      ]
     },
     "execution_count": 13,
     "metadata": {},
     "output_type": "execute_result"
    }
   ],
   "source": [
    "my_data.shape"
   ]
  },
  {
   "cell_type": "code",
   "execution_count": 14,
   "metadata": {},
   "outputs": [
    {
     "name": "stderr",
     "output_type": "stream",
     "text": [
      "/Library/Frameworks/Python.framework/Versions/3.7/lib/python3.7/site-packages/ipykernel_launcher.py:2: SettingWithCopyWarning: \n",
      "A value is trying to be set on a copy of a slice from a DataFrame.\n",
      "Try using .loc[row_indexer,col_indexer] = value instead\n",
      "\n",
      "See the caveats in the documentation: http://pandas.pydata.org/pandas-docs/stable/indexing.html#indexing-view-versus-copy\n",
      "  \n"
     ]
    }
   ],
   "source": [
    "temp=my_data[['subnum','outcome_str','peoccur']]\n",
    "temp['target'] = temp['outcome_str']"
   ]
  },
  {
   "cell_type": "code",
   "execution_count": 16,
   "metadata": {},
   "outputs": [
    {
     "name": "stderr",
     "output_type": "stream",
     "text": [
      "/Library/Frameworks/Python.framework/Versions/3.7/lib/python3.7/site-packages/pandas/core/indexing.py:543: SettingWithCopyWarning: \n",
      "A value is trying to be set on a copy of a slice from a DataFrame.\n",
      "Try using .loc[row_indexer,col_indexer] = value instead\n",
      "\n",
      "See the caveats in the documentation: http://pandas.pydata.org/pandas-docs/stable/indexing.html#indexing-view-versus-copy\n",
      "  self.obj[item] = s\n"
     ]
    }
   ],
   "source": [
    "\n",
    "temp.loc[(temp['outcome_str']=='1') & (temp['peoccur'] =='2'),'target'] = '1'\n",
    "temp.loc[(temp['outcome_str']=='1') & (temp['peoccur'] !='2'),'target'] = 'R'"
   ]
  },
  {
   "cell_type": "code",
   "execution_count": 18,
   "metadata": {},
   "outputs": [],
   "source": [
    "data_target=data_rel.merge(temp)"
   ]
  },
  {
   "cell_type": "code",
   "execution_count": 23,
   "metadata": {},
   "outputs": [
    {
     "data": {
      "text/plain": [
       "Index(['subnum', 'outcome_str', 'peoccur', 'target'], dtype='object')"
      ]
     },
     "execution_count": 23,
     "metadata": {},
     "output_type": "execute_result"
    }
   ],
   "source": [
    "temp.columns"
   ]
  },
  {
   "cell_type": "code",
   "execution_count": 29,
   "metadata": {},
   "outputs": [
    {
     "data": {
      "text/plain": [
       "0"
      ]
     },
     "execution_count": 29,
     "metadata": {},
     "output_type": "execute_result"
    }
   ],
   "source": [
    "np.sum(data_rel.columns=='outcome_str')"
   ]
  },
  {
   "cell_type": "code",
   "execution_count": 48,
   "metadata": {},
   "outputs": [],
   "source": [
    "data_target2=data_target[(data_target['target']!='R')]\n",
    "data_target2=data_target2[(data_target2['target']!='W')]"
   ]
  },
  {
   "cell_type": "code",
   "execution_count": 53,
   "metadata": {},
   "outputs": [
    {
     "data": {
      "text/plain": [
       "(8661, 403)"
      ]
     },
     "execution_count": 53,
     "metadata": {},
     "output_type": "execute_result"
    }
   ],
   "source": [
    "data_target2.shape"
   ]
  },
  {
   "cell_type": "code",
   "execution_count": 54,
   "metadata": {},
   "outputs": [
    {
     "data": {
      "text/plain": [
       "(7213, 401)"
      ]
     },
     "execution_count": 54,
     "metadata": {},
     "output_type": "execute_result"
    }
   ],
   "source": [
    "data_target2=data_target2.drop_duplicates(subset=['ptinit','dob_ym','gender'],keep='first')\n",
    "\n",
    "# get rid of two columns\n",
    "data_target2=data_target2.drop(columns=['outcome_str', 'peoccur'])\n",
    "\n",
    "data_target2.shape"
   ]
  },
  {
   "cell_type": "code",
   "execution_count": null,
   "metadata": {},
   "outputs": [],
   "source": []
  },
  {
   "cell_type": "code",
   "execution_count": null,
   "metadata": {},
   "outputs": [],
   "source": []
  },
  {
   "cell_type": "code",
   "execution_count": null,
   "metadata": {},
   "outputs": [],
   "source": []
  }
 ],
 "metadata": {
  "kernelspec": {
   "display_name": "Python 3",
   "language": "python",
   "name": "python3"
  },
  "language_info": {
   "codemirror_mode": {
    "name": "ipython",
    "version": 3
   },
   "file_extension": ".py",
   "mimetype": "text/x-python",
   "name": "python",
   "nbconvert_exporter": "python",
   "pygments_lexer": "ipython3",
   "version": "3.7.3"
  }
 },
 "nbformat": 4,
 "nbformat_minor": 2
}
